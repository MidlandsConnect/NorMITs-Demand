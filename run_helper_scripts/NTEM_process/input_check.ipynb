{
 "cells": [
  {
   "cell_type": "code",
   "execution_count": 2,
   "metadata": {},
   "outputs": [
    {
     "ename": "ModuleNotFoundError",
     "evalue": "No module named 'normits_demand'",
     "output_type": "error",
     "traceback": [
      "\u001b[1;31m---------------------------------------------------------------------------\u001b[0m",
      "\u001b[1;31mModuleNotFoundError\u001b[0m                       Traceback (most recent call last)",
      "\u001b[1;32m<ipython-input-2-43e14e99ffd2>\u001b[0m in \u001b[0;36m<module>\u001b[1;34m\u001b[0m\n\u001b[0;32m      3\u001b[0m \u001b[1;32mimport\u001b[0m \u001b[0msys\u001b[0m\u001b[1;33m\u001b[0m\u001b[1;33m\u001b[0m\u001b[0m\n\u001b[0;32m      4\u001b[0m \u001b[0msys\u001b[0m\u001b[1;33m.\u001b[0m\u001b[0mpath\u001b[0m\u001b[1;33m.\u001b[0m\u001b[0mappend\u001b[0m\u001b[1;33m(\u001b[0m\u001b[1;34m'..'\u001b[0m\u001b[1;33m)\u001b[0m\u001b[1;33m\u001b[0m\u001b[1;33m\u001b[0m\u001b[0m\n\u001b[1;32m----> 5\u001b[1;33m \u001b[1;32mimport\u001b[0m \u001b[0mnormits_demand\u001b[0m \u001b[1;32mas\u001b[0m \u001b[0mnd\u001b[0m\u001b[1;33m\u001b[0m\u001b[1;33m\u001b[0m\u001b[0m\n\u001b[0m",
      "\u001b[1;31mModuleNotFoundError\u001b[0m: No module named 'normits_demand'"
     ]
    }
   ],
   "source": [
    "import pandas as pd\n",
    "import os\n",
    "import sys\n",
    "import pathlib\n",
    "sys.path.append('..')\n",
    "import normits_demand as nd\n",
    "path = pathlib.Path(r'C:\\Projects\\MidMITS\\Python\\outputs\\ApplyMND')"
   ]
  },
  {
   "cell_type": "code",
   "execution_count": 13,
   "metadata": {},
   "outputs": [],
   "source": [
    "pre_covid = {}\n",
    "for year in ['2018','2021']:\n",
    "    for kind in ['hb','nhb']:\n",
    "        for loc in ['origin','destination']:\n",
    "            dvec = nd.load(os.path.join(path,loc,f\"{kind}_msoa_notem_segmented_{year}_dvec.pkl\"))\n",
    "            pre_covid[f\"{kind}_{loc}_{year}\"] = dvec"
   ]
  },
  {
   "cell_type": "code",
   "execution_count": null,
   "metadata": {},
   "outputs": [],
   "source": [
    "post_covid = {}\n",
    "for kind in ['hb','nhb']:\n",
    "    for loc in ['origin','destination']:\n",
    "        dvec = nd.load(os.path.join(path,f\"{loc}_{kind}.pkl\"))\n",
    "        post_covid[f'{loc}_{kind}'] = dvec\n"
   ]
  }
 ],
 "metadata": {
  "interpreter": {
   "hash": "986efb39454bd1f0dccb033f539d0141e86aaa35973709849f5a104d68c4f791"
  },
  "kernelspec": {
   "display_name": "Python 3.8.8",
   "language": "python",
   "name": "python3"
  },
  "language_info": {
   "codemirror_mode": {
    "name": "ipython",
    "version": 3
   },
   "file_extension": ".py",
   "mimetype": "text/x-python",
   "name": "python",
   "nbconvert_exporter": "python",
   "pygments_lexer": "ipython3",
   "version": "3.8.8"
  },
  "orig_nbformat": 4
 },
 "nbformat": 4,
 "nbformat_minor": 2
}
